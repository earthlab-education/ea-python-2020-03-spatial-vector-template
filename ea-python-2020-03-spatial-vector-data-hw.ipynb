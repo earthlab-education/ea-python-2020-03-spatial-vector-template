{
 "cells": [
  {
   "cell_type": "markdown",
   "metadata": {},
   "source": [
    "<img style=\"float: left;\" src=\"earth-lab-logo-rgb.png\" width=\"150\" height=\"150\" />\n",
    "\n",
    "# Earth Analytics Python Course: Spring 2020"
   ]
  },
  {
   "cell_type": "markdown",
   "metadata": {},
   "source": [
    "Before submitting this assignment, be sure to restart the kernel and run all cells. To do this, pull down the Kernel drop down at the top of this notebook. Then select **restart and run all**.\n",
    "\n",
    "Make sure you fill in any place that says `YOUR CODE HERE` or \"YOUR ANSWER HERE\", as well as your name and collaborators below."
   ]
  },
  {
   "cell_type": "code",
   "execution_count": null,
   "metadata": {},
   "outputs": [],
   "source": [
    "NAME = \"\"\n",
    "COLLABORATORS = \"\""
   ]
  },
  {
   "cell_type": "markdown",
   "metadata": {},
   "source": [
    "---"
   ]
  },
  {
   "cell_type": "markdown",
   "metadata": {
    "deletable": false,
    "editable": false,
    "nbgrader": {
     "cell_type": "markdown",
     "checksum": "3672b417143cb22b5ee80f9dbc375abf",
     "grade": false,
     "grade_id": "cell-775e4458855b1ef7",
     "locked": true,
     "schema_version": 3,
     "solution": false,
     "task": false
    }
   },
   "source": [
    "# Week 3 Spatial Vector Data Homework \n",
    "\n",
    "As you complete this assignment, be sure to (10 points total):\n",
    "\n",
    "* Follow `pep8` standards. Use the pep8 tool in Jupyter Notebook to ensure proper formatting (however, note that it does not catch everything!).\n",
    "* Keep comments concise and strategic. Don't comment every line!\n",
    "* Organize your code in a way that makes it easy to follow. \n",
    "* Place ONLY the code needed to create a plot in the plot cells. Place additional processing code ABOVE that cell (in a separate code cell).\n",
    "* Only include the package imports, code, packages, and outputs that are CRUCIAL to your homework assignment.\n",
    "* Be sure that your code can be run on any operating system. This means that:\n",
    "   1. the data should be downloaded in the notebook to ensure it's reproducible\n",
    "   2. all paths should be created dynamically using the os package to ensure that they work across operating systems \n",
    "\n",
    "## Assignment Background\n",
    "In this assignment, you will explore an area in California called the [San Joachin Experimental Range](https://www.neonscience.org/field-sites/field-sites-map/SJER) known by the acronym SJER on the NEON Website. You will look at data from this area next week more closely next week when we discuss uncertainty and lidar data. \n",
    "\n",
    "The data that you will use for this week is available from **earthpy** using the following download: \n",
    "\n",
    "`et.data.get_data('spatial-vector-lidar')`\n",
    "\n",
    "To begin, add all of the needed package imports and set your working directory in the cells below. "
   ]
  },
  {
   "cell_type": "code",
   "execution_count": null,
   "metadata": {
    "deletable": false,
    "editable": false,
    "nbgrader": {
     "cell_type": "code",
     "checksum": "f404ea86065f81a770afa078ffb39af1",
     "grade": false,
     "grade_id": "cell-dc6a887a242b2c60",
     "locked": true,
     "schema_version": 3,
     "solution": false,
     "task": false
    }
   },
   "outputs": [],
   "source": [
    "# Autograding imports - do not modify this cell\n",
    "# NOTE: need to decide on uniform imports for mpc\n",
    "import matplotcheck.notebook as nb\n",
    "import matplotcheck.autograde as ag\n",
    "import matplotcheck.vector as vct\n",
    "\n",
    "# This will hide one of geopandas warnings in cell 3 \n",
    "import warnings\n",
    "warnings.filterwarnings('ignore', 'GeoSeries.notna', UserWarning)"
   ]
  },
  {
   "cell_type": "code",
   "execution_count": null,
   "metadata": {
    "deletable": false,
    "nbgrader": {
     "cell_type": "code",
     "checksum": "43195fd26399349bb3206695f93efc1a",
     "grade": true,
     "grade_id": "cell-22fea9d7d6db5585",
     "locked": false,
     "points": 5,
     "schema_version": 3,
     "solution": true,
     "task": false
    },
    "tags": [
     "hide"
    ]
   },
   "outputs": [],
   "source": [
    "# Import packages, download data, and set working directory\n",
    "# Add code cells as you need to below\n",
    "\n",
    "# YOUR CODE HERE\n",
    "raise NotImplementedError()"
   ]
  },
  {
   "cell_type": "markdown",
   "metadata": {
    "deletable": false,
    "editable": false,
    "nbgrader": {
     "cell_type": "markdown",
     "checksum": "76c1e318970f1f35b1a88d3f8918d244",
     "grade": false,
     "grade_id": "cell-8d8db274f6ca7dfc",
     "locked": true,
     "schema_version": 3,
     "solution": false,
     "task": false
    }
   },
   "source": [
    "\n",
    "## Plot 1 - Roads Map and Legend (20 points)\n",
    "\n",
    "The NEON **SJER** field site is located in California. Your first task is to explore the area by creating a map of California roads that has symbology that represents different road types.\n",
    "\n",
    "### Open the roads layer, clip the data and create a geodataframe\n",
    "\n",
    "1. Open the `california/madera-county-roads/tl_2013_06039_roads.shp` file located in your `spatial-vector-lidar` data download using GeoPandas. \n",
    "2. Crop the geodataframe using the SJER boundary (`california/neon-sjer-site/vector_data/SJER_crop.shp`) layer. Name your clipped roads object: `sjer_roads_cl`.\n",
    "3. Open the SJER plot locations data (`california/neon-sjer-site/vector_data/SJER_plot_centroids.shp`).\n",
    "4. Create a map that shows the cropped madera roads layer, SJER plot locations and the SJER boundary (`california/neon-sjer-site/vector_data/SJER_crop.shp`).\n",
    "\n",
    "### Important Notes:\n",
    "\n",
    "1. Plot the roads so different **road types** are represented using unique symbology using the `RTTYP` attribute.\n",
    "2. Add the plot locations to your map. Color each location according to the attribute **plot type** using unique symbology for each `plot_type` in the data.\n",
    "3. Add a **title** to your plot.\n",
    "4. Be sure that your plot legend is not covering your final map.\n",
    "5. **IMPORTANT:** be sure that all of the data are within the same `EXTENT` and `crs` of the SJER boundary layer. This means that you  have to crop and reproject your data prior to plotting it!\n",
    "\n",
    "### Warning to Ignore\n",
    "**NOTE:** you can ignore the warning from pyproj: `'+init=<authority>:<code>' syntax is deprecated.`, which will be resolved by an update to GeoPandas in the next release. "
   ]
  },
  {
   "cell_type": "code",
   "execution_count": null,
   "metadata": {
    "deletable": false,
    "nbgrader": {
     "cell_type": "code",
     "checksum": "f2737241056f99c3876c09ba5ee54c6f",
     "grade": true,
     "grade_id": "cell-5ac565e48025e9e6",
     "locked": false,
     "points": 0,
     "schema_version": 3,
     "solution": true,
     "task": false
    }
   },
   "outputs": [],
   "source": [
    "# YOUR CODE HERE\n",
    "raise NotImplementedError()"
   ]
  },
  {
   "cell_type": "code",
   "execution_count": null,
   "metadata": {
    "deletable": false,
    "editable": false,
    "nbgrader": {
     "cell_type": "code",
     "checksum": "939e764fe31b80a50a10097dfe5ef853",
     "grade": true,
     "grade_id": "cell-2aa9a7314bc103cd",
     "locked": true,
     "points": 5,
     "schema_version": 3,
     "solution": false,
     "task": false
    }
   },
   "outputs": [],
   "source": [
    "# Test that sjer_plots is of type dataframe and named correctly\n",
    "\n",
    "# Let's make sure you created an object with the correct name and of the correct type above!\n",
    "points = 0\n",
    "try:\n",
    "    isinstance(sjer_plots, gpd.geodataframe.GeoDataFrame)\n",
    "    print(\"Great! You created the sjer_plots object and it's a GeoPandas DataFrame. The data inside the GeoDataFrame will be tested separately when your homework is graded!\")\n",
    "    points+=2.5\n",
    "except AssertionError as message:\n",
    "    print(\"AssertionError:\",\n",
    "          \"Oops, you nead to create an GeoDataFrame object called sjer_plots.\")\n",
    "\n",
    "# Test that sjer_roads_cl is of type dataframe and named correctly\n",
    "try:\n",
    "    isinstance(sjer_roads_cl, gpd.geodataframe.GeoDataFrame)\n",
    "    print(\"Great! You created the sjer_roads_cl object and it's a GeoPandas DataFrame. The data inside the GeoDataFrame will be tested separately when your homework is graded!\")\n",
    "    points+=2.5\n",
    "except AssertionError as message:\n",
    "    print(\"AssertionError:\",\n",
    "          \"Oops, you nead to create an GeoDataFrame object called sjer_roads_cl\")\n",
    "points"
   ]
  },
  {
   "cell_type": "code",
   "execution_count": null,
   "metadata": {
    "deletable": false,
    "nbgrader": {
     "cell_type": "code",
     "checksum": "4cba9738c71c58a6ea25338da2574c60",
     "grade": false,
     "grade_id": "cell-15cc5d67628145c9",
     "locked": false,
     "schema_version": 3,
     "solution": true,
     "task": false
    },
    "tags": [
     "hide"
    ]
   },
   "outputs": [],
   "source": [
    "# PLOT 1 - Place only the code required to create a plot of your data here\n",
    "# Additional processing code can go above this code cell\n",
    "\n",
    "# Important: name your plots geodataframe: sjer_plots\n",
    "# Important: name your clipped roads geodataframe: sjer_roads_cl\n",
    "\n",
    "# YOUR CODE HERE\n",
    "raise NotImplementedError()\n",
    "\n",
    "### DO NOT REMOVE LINE BELOW ###\n",
    "plot01_roads_plot_locs = nb.convert_axes(plt, which_axes=\"current\")"
   ]
  },
  {
   "cell_type": "code",
   "execution_count": null,
   "metadata": {
    "deletable": false,
    "editable": false,
    "nbgrader": {
     "cell_type": "code",
     "checksum": "624da92e321b2584df71141c03399802",
     "grade": true,
     "grade_id": "cell-3507faa4ba85d098",
     "locked": true,
     "points": 20,
     "schema_version": 3,
     "solution": false,
     "task": false
    }
   },
   "outputs": [],
   "source": []
  },
  {
   "cell_type": "markdown",
   "metadata": {},
   "source": [
    "## Question (5 points)\n",
    "\n",
    "What does the RTTYP road type acronyms **M** and **S** stand for? \n",
    "Please your answer in the markdown cell BELOW. \n",
    "\n",
    "HINT: use the `tl_2013_06039_roads.shp.xml` file in your data download to help you figure out the answer to this question\n",
    "HINT2: you can also find good results using google (on the column name)! "
   ]
  },
  {
   "cell_type": "markdown",
   "metadata": {
    "deletable": false,
    "nbgrader": {
     "cell_type": "markdown",
     "checksum": "785e275b2e34acf3898314d06e656613",
     "grade": true,
     "grade_id": "cell-cd13c60437c1f9e4",
     "locked": false,
     "points": 5,
     "schema_version": 3,
     "solution": true,
     "task": false
    }
   },
   "source": [
    "YOUR ANSWER HERE"
   ]
  },
  {
   "cell_type": "code",
   "execution_count": null,
   "metadata": {
    "deletable": false,
    "editable": false,
    "nbgrader": {
     "cell_type": "code",
     "checksum": "4b73fe967a5856fe75a0b160183642ce",
     "grade": true,
     "grade_id": "cell-9481556ea2f22569",
     "locked": true,
     "points": 0,
     "schema_version": 3,
     "solution": false,
     "task": false
    }
   },
   "outputs": [],
   "source": [
    "# Skip this cell"
   ]
  },
  {
   "cell_type": "markdown",
   "metadata": {
    "deletable": false,
    "editable": false,
    "nbgrader": {
     "cell_type": "markdown",
     "checksum": "744fcb14643c5017f10a6203e81a458f",
     "grade": false,
     "grade_id": "cell-e834a745534251ba",
     "locked": true,
     "schema_version": 3,
     "solution": false,
     "task": false
    }
   },
   "source": [
    "## Plot 2 - Roads in Del Norte, Modoc & Siskiyou Counties (20 points)\n",
    "\n",
    "Create a plot of roads that are located in: Del Norte, Modoc & Siskiyou Counties. To do this, you will need the following layers:\n",
    "\n",
    "* Counties in California: `california/CA_Counties/CA_Counties_TIGER2016.shp`\n",
    "* Roads: `global/ne_10m_roads/ne_10m_roads.shp` \n",
    "\n",
    "To create this plot, you will need to:\n",
    "\n",
    "1. Select the three counties that you want to work with in the counties dataset. One fast way to do this is using syntax as follows: \n",
    "\n",
    "`roads_df[roads_df['NAME'].isin([\"Siskiyou\", \"Modoc\", \"Del Norte\"])]`\n",
    "\n",
    "2. Clip the roads data to the boundary of the counties that you wish to look at.\n",
    "3. Assign each road segment an attribute that identifies it as within each county.\n",
    "\n",
    "Color the roads in each county using a unique color.\n",
    "\n",
    "HINT: use the `legend=True` argument in `.plot()` to create a legend.\n",
    "Because you are only creating a legend for one layer, you can quickly use `.plot()`\n",
    "rather than `ax.legend()` which is what you used above!\n",
    "\n",
    "\n",
    "### IMPORTANT: \n",
    "\n",
    "* Name your final\n",
    "* Both layers need to the in the SAME coordinate reference system for you to work with them together. REPROJECT both data layers to albers `.to_crs(EPSG=\"5070\")`\n",
    "* Clip the roads to the boundary of the three_counties layer that you created which only contains the 3 selected counties: `\"Siskiyou\", \"Modoc\", \"Del Norte\"`\n",
    "* To assign each road to its respective county, you will perform a spatial join using `.sjoin()`.\n",
    "* You will need to redefine the CRS of the roads layer, after the clip, which you can do using something like:\n",
    "\n",
    "```county_roads.crs = ca_cty_albers.crs```\n",
    "\n",
    "**NOTE:** you can ignore the warning from pyproj: `'+init=<authority>:<code>' syntax is deprecated.`, which will be resolved by GeoPandas in the next release."
   ]
  },
  {
   "cell_type": "code",
   "execution_count": null,
   "metadata": {
    "deletable": false,
    "nbgrader": {
     "cell_type": "code",
     "checksum": "e7835b1eaa3d48a943d54351591220fa",
     "grade": false,
     "grade_id": "cell-fe695f549e9e4f93",
     "locked": false,
     "schema_version": 3,
     "solution": true,
     "task": false
    }
   },
   "outputs": [],
   "source": [
    "# YOUR CODE HERE\n",
    "raise NotImplementedError()"
   ]
  },
  {
   "cell_type": "code",
   "execution_count": null,
   "metadata": {
    "caption": "Map showing the roads layer clipped to the three counties and colored according to which county the road is in.",
    "deletable": false,
    "nbgrader": {
     "cell_type": "code",
     "checksum": "927d12d535e4fae1ecfdfddf44fecf18",
     "grade": false,
     "grade_id": "cell-a095a6f952d694b5",
     "locked": false,
     "schema_version": 3,
     "solution": true,
     "task": false
    },
    "tags": [
     "hide"
    ]
   },
   "outputs": [],
   "source": [
    "# PLOT 2 - Place only the code required to plot your data here\n",
    "# Additional processing code can go above this code cell\n",
    "\n",
    "# Important: name your final geodataframe: three_counties\n",
    "\n",
    "# YOUR CODE HERE\n",
    "raise NotImplementedError()\n",
    "\n",
    "### DO NOT REMOVE LINE BELOW ###\n",
    "plot02_county_roads_clip = nb.convert_axes(plt, which_axes=\"current\")"
   ]
  },
  {
   "cell_type": "code",
   "execution_count": null,
   "metadata": {
    "deletable": false,
    "editable": false,
    "nbgrader": {
     "cell_type": "code",
     "checksum": "6e327217e1e4dfe31b98f3fb9578e7a6",
     "grade": true,
     "grade_id": "cell-9acbe23b6103a0f4",
     "locked": true,
     "points": 0,
     "schema_version": 3,
     "solution": false,
     "task": false
    }
   },
   "outputs": [],
   "source": [
    "# Test that three_counties is of type dataframe and named correctly\n",
    "\n",
    "# Let's make sure you created an object with the correct name and of the correct type above!\n",
    "try:\n",
    "    isinstance(three_counties, gpd.geodataframe.GeoDataFrame)\n",
    "    print(\"Great! You created the three_counties object and it's a GeoPandas DataFrame. The data inside the GeoDataFrame will be tested separately when your homework is graded!\")\n",
    "except AssertionError as message:\n",
    "    print(\"AssertionError:\",\n",
    "          \"Oops, you nead to create an GeoDataFrame object called three_counties.\")"
   ]
  },
  {
   "cell_type": "code",
   "execution_count": null,
   "metadata": {
    "deletable": false,
    "editable": false,
    "nbgrader": {
     "cell_type": "code",
     "checksum": "a2afe6e94308622374e8b33fed10f7a4",
     "grade": true,
     "grade_id": "cell-13b54ab8221025b4",
     "locked": true,
     "points": 20,
     "schema_version": 3,
     "solution": false,
     "task": false
    }
   },
   "outputs": [],
   "source": []
  },
  {
   "cell_type": "markdown",
   "metadata": {
    "deletable": false,
    "editable": false,
    "nbgrader": {
     "cell_type": "markdown",
     "checksum": "aff13c3564af370761330c66b35d15a7",
     "grade": false,
     "grade_id": "cell-a11b027e09e14362",
     "locked": true,
     "schema_version": 3,
     "solution": false,
     "task": false
    }
   },
   "source": [
    "## Table 1 - Calculate Total Length of Road Siskiyou, Modoc, Del Norte County in California (10 points)\n",
    "\n",
    "Create a geodataframe that shows the total length of road in these counties used in plot 2: Siskiyou, Modoc, and Del Norte. To calculate this, use the data you created for plot 2.\n",
    "\n",
    "To calculate length of each line in your geodataframe, you can use the syntax `gdf.length`. Create a new column using the syntax:\n",
    "\n",
    "`gdf[\"length\"] = gdf.length`\n",
    "\n",
    "You can summarize the data to calculate total length using pandas `.groupby()` on the county column name.\n",
    "\n",
    "Note: you can use: `pd.options.display.float_format = '{:.4f}'.format` if you'd like to turn off scientific notation for your outputs.\n",
    "\n",
    "IMPORTANT: Name your final summary GeoDataframe: `cali_roads_summary`.\n",
    "\n",
    "it should look something like this:\n",
    "\n",
    "\n",
    "||length|\n",
    "|----|----|\n",
    "|NAME|| \n",
    "|Del Norte| road length here|\n",
    "|Modoc| road length here|\n",
    "|Siskiyou| road length here|\n"
   ]
  },
  {
   "cell_type": "code",
   "execution_count": null,
   "metadata": {
    "deletable": false,
    "nbgrader": {
     "cell_type": "code",
     "checksum": "7ca3b76f5a2c3f5f1c2642d83625e32b",
     "grade": false,
     "grade_id": "cell-ba0fad648a80e0dd",
     "locked": false,
     "schema_version": 3,
     "solution": true,
     "task": false
    },
    "tags": [
     "hide"
    ]
   },
   "outputs": [],
   "source": [
    "# TABLE 1 - Place the code required to create the dataframe\n",
    "# Important: name your final geodataframe: cali_roads_summary\n",
    "\n",
    "# YOUR CODE HERE\n",
    "raise NotImplementedError()"
   ]
  },
  {
   "cell_type": "code",
   "execution_count": null,
   "metadata": {
    "deletable": false,
    "editable": false,
    "nbgrader": {
     "cell_type": "code",
     "checksum": "6cd8aa7597c638a17ead1996cb00bf33",
     "grade": true,
     "grade_id": "cell-df7e0784334e1225",
     "locked": true,
     "points": 3,
     "schema_version": 3,
     "solution": false,
     "task": false
    }
   },
   "outputs": [],
   "source": [
    "# Test that the cali_roads_summary is of type dataframe and named correctly\n",
    "\n",
    "# Let's make sure you created an object with the correct name and of the correct type above!\n",
    "points=0\n",
    "try:\n",
    "    isinstance(cali_roads_summary, pd.core.frame.DataFrame)\n",
    "    print(\"Great! You created the cali_roads_summary object and it's a Pandas DataFrame. The data inside the DataFrame will be tested separately when your homework is graded!\")\n",
    "    points+=3\n",
    "except AssertionError as message:\n",
    "    print(\"AssertionError:\",\n",
    "          \"Oops, you nead to create an DataFrame object called cali_roads_summary.\")\n",
    "    \n",
    "points"
   ]
  },
  {
   "cell_type": "code",
   "execution_count": null,
   "metadata": {
    "deletable": false,
    "editable": false,
    "nbgrader": {
     "cell_type": "code",
     "checksum": "e08a34db81a253ddd91cc226ad289401",
     "grade": true,
     "grade_id": "cell-990d45c588cbdcca",
     "locked": true,
     "points": 10,
     "schema_version": 3,
     "solution": false,
     "task": false
    }
   },
   "outputs": [],
   "source": []
  },
  {
   "cell_type": "markdown",
   "metadata": {
    "deletable": false,
    "editable": false,
    "nbgrader": {
     "cell_type": "markdown",
     "checksum": "ef5ef137b6408ca1b2c6b533eeeef4f3",
     "grade": false,
     "grade_id": "cell-71869014d31cfa0b",
     "locked": true,
     "schema_version": 3,
     "solution": false,
     "task": false
    }
   },
   "source": [
    "## Plot 3 - Global Total Estimated Population and Mean Population Rank (20 points)\n",
    "\n",
    "Create a plot of quantile maps of global estimated population by region. To do this, you will use the following layers:\n",
    "\n",
    "1. Download the natural earth data from the following URL:\n",
    "`https://www.naturalearthdata.com/http//www.naturalearthdata.com/download/10m/cultural/ne_10m_admin_0_countries.zip`\n",
    "\n",
    "The URL below might look odd as it has two \"http\" strings in it, but it is how the url's are organized on natural earth and should work. \n",
    "\n",
    "Recall that using `et.data.get_data(url=url)` will download the data to the following directory: `earth-analytics/data/earthpy-downloads/` \n",
    "\n",
    "After you have downloaded the data, import the data and \n",
    "1. subset the data to include the following columns: `[\"REGION_WB\", \"CONTINENT\", \"POP_RANK\",\"POP_EST\", 'geometry']`\n",
    "2. Dissolve the data by region (`REGION_WB`) column and aggregate by `sum` and `mean`. \n",
    "    * HINT: you can provide the aggfun= argument with a `[list]` of function names in quotes and it will summarize numeric columns using each function.\n",
    "3. Create a figure with two plots:  \n",
    "    * a. Plot 1 - sum estimated population (`POP_EST`) by region.\n",
    "    * a. Plot 2 - mean population rank (`POP_RANK`) by region.\n",
    "    \n",
    "**NOTE:** you can ignore the warning from merge: `UserWarning: merging between different levels can give an unintended result`."
   ]
  },
  {
   "cell_type": "code",
   "execution_count": null,
   "metadata": {
    "deletable": false,
    "nbgrader": {
     "cell_type": "code",
     "checksum": "d298aba7273a9a68fabb03c970221d41",
     "grade": false,
     "grade_id": "cell-4d51ad653bc97607",
     "locked": false,
     "schema_version": 3,
     "solution": true,
     "task": false
    }
   },
   "outputs": [],
   "source": [
    "# PLOT 4 - Place only the code required to plot your data here\n",
    "# Additional processing code can go above this code cell\n",
    "\n",
    "# Important: name your final geodataframe: mean_region_val\n",
    "\n",
    "# YOUR CODE HERE\n",
    "raise NotImplementedError()\n",
    "\n",
    "### DO NOT REMOVE LINE BELOW ###\n",
    "plot04_global_population = nb.convert_axes(plt, which_axes=\"all\")"
   ]
  },
  {
   "cell_type": "code",
   "execution_count": null,
   "metadata": {
    "deletable": false,
    "editable": false,
    "nbgrader": {
     "cell_type": "code",
     "checksum": "9ee9504ae359a0d47db24dab1e376de9",
     "grade": true,
     "grade_id": "cell-85f1ca78235b44ce",
     "locked": true,
     "points": 5,
     "schema_version": 3,
     "solution": false,
     "task": false
    }
   },
   "outputs": [],
   "source": [
    "# Test that mean_region_val is of type dataframe and named correctly\n",
    "points=0\n",
    "# Let's make sure you created an object with the correct name and of the correct type above!\n",
    "try:\n",
    "    isinstance(mean_region_val, gpd.geodataframe.GeoDataFrame)\n",
    "    print(\"Great! You created the mean_region_val object and it's a GeoPandas DataFrame. The data inside the GeoDataFrame will be tested separately when your homework is graded!\")\n",
    "    points+=5\n",
    "except AssertionError as message:\n",
    "    print(\"AssertionError:\",\n",
    "          \"Oops, you nead to create an GeoDataFrame object called mean_region_val.\")\n",
    "points"
   ]
  },
  {
   "cell_type": "code",
   "execution_count": null,
   "metadata": {
    "deletable": false,
    "editable": false,
    "nbgrader": {
     "cell_type": "code",
     "checksum": "b39d0029fd082eda79fed81895ed68ec",
     "grade": true,
     "grade_id": "cell-694447c0c27dbb05",
     "locked": true,
     "points": 20,
     "schema_version": 3,
     "solution": false,
     "task": false
    }
   },
   "outputs": [],
   "source": []
  },
  {
   "cell_type": "markdown",
   "metadata": {
    "deletable": false,
    "editable": false,
    "nbgrader": {
     "cell_type": "markdown",
     "checksum": "315c6f303b424151f2bb4f73bcaadb94",
     "grade": false,
     "grade_id": "cell-a23c63136f242160",
     "locked": true,
     "points": 7,
     "schema_version": 3,
     "solution": false,
     "task": true
    }
   },
   "source": [
    "## Do not modify this cell (7 points)\n",
    "\n",
    "*  here we will grade pep8 format and imports listed at the top following pep 8 conventions."
   ]
  }
 ],
 "metadata": {
  "anaconda-cloud": {},
  "kernelspec": {
   "display_name": "Python 3",
   "language": "python",
   "name": "python3"
  },
  "language_info": {
   "codemirror_mode": {
    "name": "ipython",
    "version": 3
   },
   "file_extension": ".py",
   "mimetype": "text/x-python",
   "name": "python",
   "nbconvert_exporter": "python",
   "pygments_lexer": "ipython3",
   "version": "3.7.6"
  },
  "varInspector": {
   "cols": {
    "lenName": 16,
    "lenType": 16,
    "lenVar": 40
   },
   "kernels_config": {
    "python": {
     "delete_cmd_postfix": "",
     "delete_cmd_prefix": "del ",
     "library": "var_list.py",
     "varRefreshCmd": "print(var_dic_list())"
    },
    "r": {
     "delete_cmd_postfix": ") ",
     "delete_cmd_prefix": "rm(",
     "library": "var_list.r",
     "varRefreshCmd": "cat(var_dic_list()) "
    }
   },
   "types_to_exclude": [
    "module",
    "function",
    "builtin_function_or_method",
    "instance",
    "_Feature"
   ],
   "window_display": false
  }
 },
 "nbformat": 4,
 "nbformat_minor": 2
}
